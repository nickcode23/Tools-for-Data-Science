{
 "cells": [
  {
   "cell_type": "markdown",
   "id": "cafe0626-450f-4bcd-aa73-33fe655d255b",
   "metadata": {},
   "source": [
    "# Data Science Tools and Ecosystem"
   ]
  },
  {
   "cell_type": "markdown",
   "id": "3941430f-b7cd-4d05-9ea2-b7c8818f9fb5",
   "metadata": {},
   "source": [
    "In this notebook, Data Science Tools and Ecosystems are summarized."
   ]
  },
  {
   "cell_type": "markdown",
   "id": "6df98c58-b957-468a-851b-bd1eccd95326",
   "metadata": {},
   "source": [
    "**Objectives:**\n",
    "* Popular languages for Data Science\n",
    "* Commonly used libraries in Data Science\n",
    "* Popular Data Science Tools\n",
    "* Arithmetic expressions in Python"
   ]
  },
  {
   "cell_type": "markdown",
   "id": "81ed09de-d434-4d6e-90ce-6f229b53edd6",
   "metadata": {},
   "source": [
    "Some of the popular languages that Data Scientists use are:\n",
    "1. Python\n",
    "2. R\n",
    "3. Java\n",
    "4. SQL\n",
    "5. Julia"
   ]
  },
  {
   "cell_type": "markdown",
   "id": "260f3794-72f7-4b5f-a1d8-117ca797afe2",
   "metadata": {},
   "source": [
    "Some of the commonly used libraries used by Data Scientists include:\n",
    "1. Numpy\n",
    "2. Keras\n",
    "3. Pytorch\n",
    "4. Scrapy\n",
    "5. Pandas"
   ]
  },
  {
   "cell_type": "markdown",
   "id": "037533f8-202d-42f2-bd07-1e856bcdb0df",
   "metadata": {},
   "source": [
    "|Data Science Tools|\n",
    "|------------------|\n",
    "|Python |\n",
    "|R      |\n",
    "|Jupyter|"
   ]
  },
  {
   "cell_type": "markdown",
   "id": "4aff5a1a-501e-4db9-a207-1c2171c03fbf",
   "metadata": {},
   "source": [
    "### Below are a few examples of evaluating arithmetic expressions in Python"
   ]
  },
  {
   "cell_type": "code",
   "execution_count": 22,
   "id": "cc81020d-e78a-466c-8283-f5be8c6b7e18",
   "metadata": {},
   "outputs": [
    {
     "data": {
      "text/plain": [
       "17"
      ]
     },
     "execution_count": 22,
     "metadata": {},
     "output_type": "execute_result"
    }
   ],
   "source": [
    "# This is a simple arithmetic expression to multiply then add integers\n",
    "(3*4)+5"
   ]
  },
  {
   "cell_type": "code",
   "execution_count": 24,
   "id": "387922a0-c9cb-4990-8fd2-dea5b00d6843",
   "metadata": {},
   "outputs": [
    {
     "data": {
      "text/plain": [
       "3.3333333333333335"
      ]
     },
     "execution_count": 24,
     "metadata": {},
     "output_type": "execute_result"
    }
   ],
   "source": [
    "# This will convert 200 minutes to hours by dividing by 60\n",
    "200/60"
   ]
  },
  {
   "cell_type": "markdown",
   "id": "d69e0c75-749a-435c-8967-95394e5c0b48",
   "metadata": {},
   "source": [
    "## Author\n",
    "Yingjie Gao"
   ]
  },
  {
   "cell_type": "code",
   "execution_count": null,
   "id": "22b8cdc6-1c83-4e5d-bd25-deab751b7954",
   "metadata": {},
   "outputs": [],
   "source": []
  }
 ],
 "metadata": {
  "kernelspec": {
   "display_name": "Python 3 (ipykernel)",
   "language": "python",
   "name": "python3"
  },
  "language_info": {
   "codemirror_mode": {
    "name": "ipython",
    "version": 3
   },
   "file_extension": ".py",
   "mimetype": "text/x-python",
   "name": "python",
   "nbconvert_exporter": "python",
   "pygments_lexer": "ipython3",
   "version": "3.12.4"
  }
 },
 "nbformat": 4,
 "nbformat_minor": 5
}
